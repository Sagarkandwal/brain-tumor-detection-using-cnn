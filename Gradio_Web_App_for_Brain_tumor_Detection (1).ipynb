{
 "cells": [
  {
   "cell_type": "code",
   "execution_count": null,
   "metadata": {
    "colab": {
     "base_uri": "https://localhost:8080/"
    },
    "id": "Jt4GaqufRTps",
    "outputId": "5808ba04-824a-4e65-f546-53d8cadbc5ae"
   },
   "outputs": [],
   "source": [
    "!pip uninstall gradio -y\n",
    "!pip install gradio"
   ]
  },
  {
   "cell_type": "code",
   "execution_count": null,
   "metadata": {
    "colab": {
     "base_uri": "https://localhost:8080/"
    },
    "id": "TFogf1-hRz81",
    "outputId": "5305a176-a499-4d1f-8720-3660ba09a577"
   },
   "outputs": [],
   "source": [
    "!pip install python-multipart"
   ]
  },
  {
   "cell_type": "code",
   "execution_count": null,
   "metadata": {
    "colab": {
     "base_uri": "https://localhost:8080/",
     "height": 628
    },
    "id": "JJ9QrWAVPJ7C",
    "outputId": "0b81db0a-2d27-436b-d8f9-d945456de891"
   },
   "outputs": [],
   "source": [
    "\n",
    "!pip install streamlit\n",
    "\n",
    "\n",
    "\n",
    "import streamlit as st\n",
    "import tensorflow as tf\n",
    "import numpy as np\n",
    "from PIL import Image\n",
    "from keras.models import load_model\n",
    "\n",
    "# Load the pre-trained model\n",
    "MODEL_PATH = 'G:/Brain-Tumor-detection-main/BrainTumorEnhancement(6).h5'\n",
    "model = load_model(MODEL_PATH)\n",
    "\n",
    "# Mapping of class indices to class names\n",
    "CLASS_NAMES = {\n",
    "    0: \"No Brain Tumor\",\n",
    "    1: \"Yes Brain Tumor\",\n",
    "}\n",
    "\n",
    "def preprocess_image(img):\n",
    "    \"\"\"\n",
    "    Preprocesses the input image to prepare it for prediction.\n",
    "    \"\"\"\n",
    "    if img.mode != 'RGB':\n",
    "        img = img.convert('RGB')\n",
    "    img_resized = img.resize((64, 64))\n",
    "    img_array = np.array(img_resized)\n",
    "    img_preprocessed = np.expand_dims(img_array, axis=0)\n",
    "    return img_preprocessed\n",
    "\n",
    "def predict_mri(img):\n",
    "    \"\"\"\n",
    "    Predicts whether the given MRI image indicates the presence of a brain tumor.\n",
    "    \"\"\"\n",
    "    preprocessed_image = preprocess_image(img)\n",
    "    prediction = model.predict(preprocessed_image)\n",
    "    class_index = np.argmax(prediction)\n",
    "    confidence = prediction[0][class_index] * 100  # Confidence as a percentage\n",
    "    return CLASS_NAMES.get(class_index, \"Unknown Class\"), f\"{confidence:.2f}% Confidence\"\n",
    "\n",
    "# Streamlit Interface\n",
    "st.set_page_config(page_title=\"Brain Tumor Detection\", page_icon=\"🧠\", layout=\"centered\")\n",
    "st.title(\"Brain Tumor MRI Detection\")\n",
    "\n",
    "st.markdown(\"\"\"\n",
    "Upload an MRI image of the brain, and the model will detect if a brain tumor is present.\n",
    "The model will also provide the confidence score of the prediction.\n",
    "\"\"\")\n",
    "\n",
    "# Image upload\n",
    "uploaded_image = st.file_uploader(\"Upload MRI Image\", type=[\"jpg\", \"jpeg\", \"png\"])\n",
    "\n",
    "if uploaded_image:\n",
    "    image = Image.open(uploaded_image)\n",
    "    st.image(image, caption=\"Uploaded MRI Image\", use_column_width=True)\n",
    "    \n",
    "    # Prediction button\n",
    "    if st.button(\"Analyze MRI\"):\n",
    "        result, confidence = predict_mri(image)\n",
    "        st.subheader(f\"Diagnosis: {result}\")\n",
    "        st.write(f\"Confidence: {confidence}\")\n",
    "\n"
   ]
  },
  {
   "cell_type": "code",
   "execution_count": null,
   "metadata": {},
   "outputs": [],
   "source": []
  }
 ],
 "metadata": {
  "colab": {
   "provenance": []
  },
  "kernelspec": {
   "display_name": "Python 3 (ipykernel)",
   "language": "python",
   "name": "python3"
  },
  "language_info": {
   "codemirror_mode": {
    "name": "ipython",
    "version": 3
   },
   "file_extension": ".py",
   "mimetype": "text/x-python",
   "name": "python",
   "nbconvert_exporter": "python",
   "pygments_lexer": "ipython3",
   "version": "3.10.15"
  }
 },
 "nbformat": 4,
 "nbformat_minor": 4
}
